{
 "cells": [
  {
   "cell_type": "markdown",
   "id": "e2b0b68c",
   "metadata": {},
   "source": [
    "# 🏦 Personal Loan Acceptance (k-NN Model in Python)\n",
    "Predicting loan acceptance using k-Nearest Neighbors on UniversalBank dataset."
   ]
  },
  {
   "cell_type": "code",
   "execution_count": null,
   "id": "4b6db9ba",
   "metadata": {},
   "outputs": [],
   "source": [
    "# Step 1: Import libraries\n",
    "import pandas as pd\n",
    "import numpy as np\n",
    "from sklearn.model_selection import train_test_split, GridSearchCV\n",
    "from sklearn.neighbors import KNeighborsClassifier\n",
    "from sklearn.preprocessing import StandardScaler\n",
    "from sklearn.metrics import confusion_matrix, classification_report, accuracy_score, precision_score, recall_score\n",
    "import warnings\n",
    "warnings.filterwarnings('ignore')"
   ]
  },
  {
   "cell_type": "code",
   "execution_count": null,
   "id": "8bfe7dab",
   "metadata": {},
   "outputs": [],
   "source": [
    "# Step 2: Load data and drop non-predictive columns\n",
    "df = pd.read_csv('UniversalBank.csv')\n",
    "df = df.drop(['ID', 'ZIP Code'], axis=1)\n",
    "df['Personal Loan'] = df['Personal Loan'].map({0: 'nonacceptor', 1: 'acceptor'})\n",
    "df['Personal Loan'] = df['Personal Loan'].astype('category')\n",
    "df['Education'] = df['Education'].astype('category')\n",
    "df.head()"
   ]
  },
  {
   "cell_type": "code",
   "execution_count": null,
   "id": "4fe29859",
   "metadata": {},
   "outputs": [],
   "source": [
    "# Step 3: Encode categorical and binary features\n",
    "df_encoded = pd.get_dummies(df, drop_first=True)\n",
    "y = df['Personal Loan'].map({'nonacceptor': 0, 'acceptor': 1})\n",
    "X = df_encoded.drop('Personal Loan_nonacceptor', axis=1)"
   ]
  },
  {
   "cell_type": "code",
   "execution_count": null,
   "id": "0502973b",
   "metadata": {},
   "outputs": [],
   "source": [
    "# Step 4: Split the data (60% train / 40% holdout)\n",
    "X_train, X_holdout, y_train, y_holdout = train_test_split(X, y, test_size=0.4, random_state=42)\n",
    "scaler = StandardScaler()\n",
    "X_train_scaled = scaler.fit_transform(X_train)\n",
    "X_holdout_scaled = scaler.transform(X_holdout)"
   ]
  },
  {
   "cell_type": "code",
   "execution_count": null,
   "id": "fe91c7e1",
   "metadata": {},
   "outputs": [],
   "source": [
    "# Step 5: Train k-NN with k=1 for a single prediction\n",
    "knn_1 = KNeighborsClassifier(n_neighbors=1)\n",
    "knn_1.fit(X_train_scaled, y_train)\n",
    "sample = pd.DataFrame([[40,10,84,2,2,0,0,0,1,1,0,0]],\n",
    "                      columns=['Age','Experience','Income','Family','CCAvg','Mortgage','Securities Account',\n",
    "                               'CD Account','Online','CreditCard','Education_2','Education_3'])\n",
    "sample_scaled = scaler.transform(sample)\n",
    "prediction = knn_1.predict(sample_scaled)\n",
    "print('Prediction for customer:', 'acceptor' if prediction[0] == 1 else 'nonacceptor')"
   ]
  },
  {
   "cell_type": "code",
   "execution_count": null,
   "id": "fae58e32",
   "metadata": {},
   "outputs": [],
   "source": [
    "# Step 6: Optimize k using GridSearchCV with 10-fold CV\n",
    "param_grid = {'n_neighbors': list(range(1, 21))}\n",
    "grid = GridSearchCV(KNeighborsClassifier(), param_grid, cv=10, scoring='accuracy')\n",
    "grid.fit(X_train_scaled, y_train)\n",
    "print('Best k:', grid.best_params_['n_neighbors'])\n",
    "best_knn = grid.best_estimator_"
   ]
  },
  {
   "cell_type": "code",
   "execution_count": null,
   "id": "f386e58f",
   "metadata": {},
   "outputs": [],
   "source": [
    "# Step 7: Evaluate on holdout set\n",
    "y_pred = best_knn.predict(X_holdout_scaled)\n",
    "cm = confusion_matrix(y_holdout, y_pred)\n",
    "acc = accuracy_score(y_holdout, y_pred)\n",
    "prec = precision_score(y_holdout, y_pred)\n",
    "rec = recall_score(y_holdout, y_pred)\n",
    "print('Confusion Matrix:\\n', cm)\n",
    "print(f'Accuracy: {acc:.2f}, Precision: {prec:.2f}, Recall: {rec:.2f}')"
   ]
  }
 ],
 "metadata": {},
 "nbformat": 4,
 "nbformat_minor": 5
}
